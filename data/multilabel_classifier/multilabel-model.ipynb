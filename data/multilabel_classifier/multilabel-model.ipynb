{
 "cells": [
  {
   "cell_type": "code",
   "execution_count": 1,
   "metadata": {},
   "outputs": [],
   "source": [
    "%load_ext autoreload\n",
    "%autoreload 2"
   ]
  },
  {
   "cell_type": "code",
   "execution_count": 2,
   "metadata": {},
   "outputs": [
    {
     "name": "stdout",
     "output_type": "stream",
     "text": [
      "\n",
      "\u001b[1m[\u001b[0m\u001b[34;49mnotice\u001b[0m\u001b[1;39;49m]\u001b[0m\u001b[39;49m A new release of pip available: \u001b[0m\u001b[31;49m22.3\u001b[0m\u001b[39;49m -> \u001b[0m\u001b[32;49m23.0.1\u001b[0m\n",
      "\u001b[1m[\u001b[0m\u001b[34;49mnotice\u001b[0m\u001b[1;39;49m]\u001b[0m\u001b[39;49m To update, run: \u001b[0m\u001b[32;49mpip install --upgrade pip\u001b[0m\n",
      "Note: you may need to restart the kernel to use updated packages.\n"
     ]
    }
   ],
   "source": [
    "%pip install -q -r requirements.txt"
   ]
  },
  {
   "cell_type": "code",
   "execution_count": 3,
   "metadata": {},
   "outputs": [],
   "source": [
    "import json\n",
    "import pandas as pd\n",
    "import os\n",
    "import re\n",
    "import string\n",
    "import pickle\n",
    "\n",
    "from transformers import BertForSequenceClassification\n",
    "from sklearn.preprocessing import MultiLabelBinarizer\n",
    "from transformers import AutoTokenizer\n",
    "from sklearn.metrics import f1_score, roc_auc_score, accuracy_score\n",
    "from transformers import EvalPrediction\n",
    "import torch\n",
    "from transformers import TrainingArguments, Trainer\n",
    "from datasets import Dataset\n",
    "import numpy as np\n",
    "from sklearn.model_selection import train_test_split"
   ]
  },
  {
   "cell_type": "code",
   "execution_count": 4,
   "metadata": {},
   "outputs": [],
   "source": [
    "import os\n",
    "#os.chdir('../..')\n",
    "\n",
    "from vecsim_app.categories import CATEGORIES\n",
    "from vecsim_app.data_utils import papers"
   ]
  },
  {
   "cell_type": "markdown",
   "metadata": {},
   "source": [
    "Define the parameters for fetching the papers dataset:\n",
    "\n",
    "- Dataset Path\n",
    "- Year cutoff: Year cut off for the papers.\n",
    "- Pattern for fetching a given amount of years\n",
    "- Max Sample size: maximum simple size (if you just want to try out the notebook - if it's too low the model won't perform well)"
   ]
  },
  {
   "cell_type": "code",
   "execution_count": 5,
   "metadata": {},
   "outputs": [],
   "source": [
    "DATA_PATH = \"./arxiv-metadata-oai-snapshot.json\"\n",
    "YEAR_CUTOFF = 2010\n",
    "YEAR_PATTERN = r\"(19|20[0-9]{2})\"\n",
    "MAX_SAMPLE_SIZE = 20000\n"
   ]
  },
  {
   "cell_type": "code",
   "execution_count": 6,
   "metadata": {},
   "outputs": [],
   "source": [
    "df = pd.DataFrame(papers(data_path=DATA_PATH, year_cutoff=YEAR_CUTOFF, year_pattern=YEAR_PATTERN))\n",
    "len(df)\n",
    "\n",
    "# Take a sample for computing reasons\n",
    "df = df.sample(MAX_SAMPLE_SIZE)"
   ]
  },
  {
   "cell_type": "code",
   "execution_count": 21,
   "metadata": {},
   "outputs": [
    {
     "data": {
      "text/html": [
       "<div>\n",
       "<style scoped>\n",
       "    .dataframe tbody tr th:only-of-type {\n",
       "        vertical-align: middle;\n",
       "    }\n",
       "\n",
       "    .dataframe tbody tr th {\n",
       "        vertical-align: top;\n",
       "    }\n",
       "\n",
       "    .dataframe thead th {\n",
       "        text-align: right;\n",
       "    }\n",
       "</style>\n",
       "<table border=\"1\" class=\"dataframe\">\n",
       "  <thead>\n",
       "    <tr style=\"text-align: right;\">\n",
       "      <th></th>\n",
       "      <th>id</th>\n",
       "      <th>title</th>\n",
       "      <th>year</th>\n",
       "      <th>authors</th>\n",
       "      <th>categories</th>\n",
       "      <th>abstract</th>\n",
       "      <th>text</th>\n",
       "    </tr>\n",
       "  </thead>\n",
       "  <tbody>\n",
       "    <tr>\n",
       "      <th>210240</th>\n",
       "      <td>1512.07410</td>\n",
       "      <td>Fragmentation of long-lived hydrocarbons after...</td>\n",
       "      <td>2016</td>\n",
       "      <td>Seyedreza Larimian, Sonia Erattupuzha, Erik L\\...</td>\n",
       "      <td>physics.chem-ph,physics.atm-clus,physics.optics</td>\n",
       "      <td>We experimentally and theoretically investig...</td>\n",
       "      <td>Fragmentation of long-lived hydrocarbons after...</td>\n",
       "    </tr>\n",
       "    <tr>\n",
       "      <th>148715</th>\n",
       "      <td>1404.1520</td>\n",
       "      <td>Single spin stochastic optical reconstruction ...</td>\n",
       "      <td>2014</td>\n",
       "      <td>Matthias Pfender, Nabeel Aslam, Gerald Waldher...</td>\n",
       "      <td>quant-ph,physics.optics</td>\n",
       "      <td>We experimentally demonstrate precision addr...</td>\n",
       "      <td>Single spin stochastic optical reconstruction ...</td>\n",
       "    </tr>\n",
       "    <tr>\n",
       "      <th>219516</th>\n",
       "      <td>1603.07790</td>\n",
       "      <td>Weighted Pushdown Systems with Indexed Weight ...</td>\n",
       "      <td>2016</td>\n",
       "      <td>Yasuhiko Minamide</td>\n",
       "      <td>cs.FL,cs.PL</td>\n",
       "      <td>The reachability analysis of weighted pushdo...</td>\n",
       "      <td>Weighted Pushdown Systems with Indexed Weight ...</td>\n",
       "    </tr>\n",
       "    <tr>\n",
       "      <th>370814</th>\n",
       "      <td>1911.02005</td>\n",
       "      <td>Simultaneous spectral estimation of dephasing ...</td>\n",
       "      <td>2020</td>\n",
       "      <td>Virginia Frey, Leigh M. Norris, Lorenza Viola ...</td>\n",
       "      <td>quant-ph</td>\n",
       "      <td>The fragility of quantum systems makes them ...</td>\n",
       "      <td>Simultaneous spectral estimation of dephasing ...</td>\n",
       "    </tr>\n",
       "    <tr>\n",
       "      <th>228464</th>\n",
       "      <td>1606.06192</td>\n",
       "      <td>A Novel Quasi-One-Dimensional Topological Insu...</td>\n",
       "      <td>2016</td>\n",
       "      <td>Gabriel Aut\\`es, Anna Isaeva, Luca Moreschini,...</td>\n",
       "      <td>cond-mat.mtrl-sci,cond-mat.mes-hall</td>\n",
       "      <td>Recent progress in the field of topological ...</td>\n",
       "      <td>A Novel Quasi-One-Dimensional Topological Insu...</td>\n",
       "    </tr>\n",
       "    <tr>\n",
       "      <th>...</th>\n",
       "      <td>...</td>\n",
       "      <td>...</td>\n",
       "      <td>...</td>\n",
       "      <td>...</td>\n",
       "      <td>...</td>\n",
       "      <td>...</td>\n",
       "      <td>...</td>\n",
       "    </tr>\n",
       "    <tr>\n",
       "      <th>316199</th>\n",
       "      <td>1808.06472</td>\n",
       "      <td>Dark Matter Sommerfeld-enhanced annihilation a...</td>\n",
       "      <td>2018</td>\n",
       "      <td>Tobias Binder, Laura Covi and Kyohei Mukaida</td>\n",
       "      <td>hep-ph,astro-ph.CO,hep-th</td>\n",
       "      <td>Traditional computations of the dark matter ...</td>\n",
       "      <td>Dark Matter Sommerfeld-enhanced annihilation a...</td>\n",
       "    </tr>\n",
       "    <tr>\n",
       "      <th>414998</th>\n",
       "      <td>2010.12385</td>\n",
       "      <td>Resonances in hyperbolic dynamics</td>\n",
       "      <td>2018</td>\n",
       "      <td>St\\'ephane Nonnenmacher</td>\n",
       "      <td>math-ph,math.DS,math.MP,math.SP</td>\n",
       "      <td>The study of wave propagation outside bounde...</td>\n",
       "      <td>Resonances in hyperbolic dynamics   The study ...</td>\n",
       "    </tr>\n",
       "    <tr>\n",
       "      <th>189313</th>\n",
       "      <td>1506.01307</td>\n",
       "      <td>Control of fixed points and existence and uniq...</td>\n",
       "      <td>2016</td>\n",
       "      <td>George Glauberman and Justin Lynd</td>\n",
       "      <td>math.GR,math.AT</td>\n",
       "      <td>A. Chermak has recently proved that to each ...</td>\n",
       "      <td>Control of fixed points and existence and uniq...</td>\n",
       "    </tr>\n",
       "    <tr>\n",
       "      <th>65915</th>\n",
       "      <td>1108.5137</td>\n",
       "      <td>A Laser System for the Spectroscopy of Highly-...</td>\n",
       "      <td>2012</td>\n",
       "      <td>S. Albrecht, S. Altenburg, C. Siegel, N. Hersc...</td>\n",
       "      <td>physics.atom-ph,nucl-ex</td>\n",
       "      <td>We present and characterize a laser system f...</td>\n",
       "      <td>A Laser System for the Spectroscopy of Highly-...</td>\n",
       "    </tr>\n",
       "    <tr>\n",
       "      <th>319340</th>\n",
       "      <td>1809.05654</td>\n",
       "      <td>Changes of graph structure of transition proba...</td>\n",
       "      <td>2018</td>\n",
       "      <td>Teruaki Okushima, Tomoaki Niiyama, Kensuke S. ...</td>\n",
       "      <td>cond-mat.dis-nn</td>\n",
       "      <td>Graphs of the most probable transitions for ...</td>\n",
       "      <td>Changes of graph structure of transition proba...</td>\n",
       "    </tr>\n",
       "  </tbody>\n",
       "</table>\n",
       "<p>5000 rows × 7 columns</p>\n",
       "</div>"
      ],
      "text/plain": [
       "                id                                              title  year  \\\n",
       "210240  1512.07410  Fragmentation of long-lived hydrocarbons after...  2016   \n",
       "148715   1404.1520  Single spin stochastic optical reconstruction ...  2014   \n",
       "219516  1603.07790  Weighted Pushdown Systems with Indexed Weight ...  2016   \n",
       "370814  1911.02005  Simultaneous spectral estimation of dephasing ...  2020   \n",
       "228464  1606.06192  A Novel Quasi-One-Dimensional Topological Insu...  2016   \n",
       "...            ...                                                ...   ...   \n",
       "316199  1808.06472  Dark Matter Sommerfeld-enhanced annihilation a...  2018   \n",
       "414998  2010.12385                  Resonances in hyperbolic dynamics  2018   \n",
       "189313  1506.01307  Control of fixed points and existence and uniq...  2016   \n",
       "65915    1108.5137  A Laser System for the Spectroscopy of Highly-...  2012   \n",
       "319340  1809.05654  Changes of graph structure of transition proba...  2018   \n",
       "\n",
       "                                                  authors  \\\n",
       "210240  Seyedreza Larimian, Sonia Erattupuzha, Erik L\\...   \n",
       "148715  Matthias Pfender, Nabeel Aslam, Gerald Waldher...   \n",
       "219516                                  Yasuhiko Minamide   \n",
       "370814  Virginia Frey, Leigh M. Norris, Lorenza Viola ...   \n",
       "228464  Gabriel Aut\\`es, Anna Isaeva, Luca Moreschini,...   \n",
       "...                                                   ...   \n",
       "316199       Tobias Binder, Laura Covi and Kyohei Mukaida   \n",
       "414998                            St\\'ephane Nonnenmacher   \n",
       "189313                  George Glauberman and Justin Lynd   \n",
       "65915   S. Albrecht, S. Altenburg, C. Siegel, N. Hersc...   \n",
       "319340  Teruaki Okushima, Tomoaki Niiyama, Kensuke S. ...   \n",
       "\n",
       "                                             categories  \\\n",
       "210240  physics.chem-ph,physics.atm-clus,physics.optics   \n",
       "148715                          quant-ph,physics.optics   \n",
       "219516                                      cs.FL,cs.PL   \n",
       "370814                                         quant-ph   \n",
       "228464              cond-mat.mtrl-sci,cond-mat.mes-hall   \n",
       "...                                                 ...   \n",
       "316199                        hep-ph,astro-ph.CO,hep-th   \n",
       "414998                  math-ph,math.DS,math.MP,math.SP   \n",
       "189313                                  math.GR,math.AT   \n",
       "65915                           physics.atom-ph,nucl-ex   \n",
       "319340                                  cond-mat.dis-nn   \n",
       "\n",
       "                                                 abstract  \\\n",
       "210240    We experimentally and theoretically investig...   \n",
       "148715    We experimentally demonstrate precision addr...   \n",
       "219516    The reachability analysis of weighted pushdo...   \n",
       "370814    The fragility of quantum systems makes them ...   \n",
       "228464    Recent progress in the field of topological ...   \n",
       "...                                                   ...   \n",
       "316199    Traditional computations of the dark matter ...   \n",
       "414998    The study of wave propagation outside bounde...   \n",
       "189313    A. Chermak has recently proved that to each ...   \n",
       "65915     We present and characterize a laser system f...   \n",
       "319340    Graphs of the most probable transitions for ...   \n",
       "\n",
       "                                                     text  \n",
       "210240  Fragmentation of long-lived hydrocarbons after...  \n",
       "148715  Single spin stochastic optical reconstruction ...  \n",
       "219516  Weighted Pushdown Systems with Indexed Weight ...  \n",
       "370814  Simultaneous spectral estimation of dephasing ...  \n",
       "228464  A Novel Quasi-One-Dimensional Topological Insu...  \n",
       "...                                                   ...  \n",
       "316199  Dark Matter Sommerfeld-enhanced annihilation a...  \n",
       "414998  Resonances in hyperbolic dynamics   The study ...  \n",
       "189313  Control of fixed points and existence and uniq...  \n",
       "65915   A Laser System for the Spectroscopy of Highly-...  \n",
       "319340  Changes of graph structure of transition proba...  \n",
       "\n",
       "[5000 rows x 7 columns]"
      ]
     },
     "execution_count": 21,
     "metadata": {},
     "output_type": "execute_result"
    }
   ],
   "source": [
    "df"
   ]
  },
  {
   "cell_type": "code",
   "execution_count": 20,
   "metadata": {},
   "outputs": [
    {
     "data": {
      "text/plain": [
       "{'astro-ph': 'Astrophysics',\n",
       " 'astro-ph.CO': 'Cosmology and Nongalactic Astrophysics',\n",
       " 'astro-ph.EP': 'Earth and Planetary Astrophysics',\n",
       " 'astro-ph.GA': 'Astrophysics of Galaxies',\n",
       " 'astro-ph.HE': 'High Energy Astrophysical Phenomena',\n",
       " 'astro-ph.IM': 'Instrumentation and Methods for Astrophysics',\n",
       " 'astro-ph.SR': 'Solar and Stellar Astrophysics',\n",
       " 'cond-mat.dis-nn': 'Disordered Systems and Neural Networks',\n",
       " 'cond-mat.mes-hall': 'Mesoscale and Nanoscale Physics',\n",
       " 'cond-mat.mtrl-sci': 'Materials Science',\n",
       " 'cond-mat.other': 'Other Condensed Matter',\n",
       " 'cond-mat.quant-gas': 'Quantum Gases',\n",
       " 'cond-mat.soft': 'Soft Condensed Matter',\n",
       " 'cond-mat.stat-mech': 'Statistical Mechanics',\n",
       " 'cond-mat.str-el': 'Strongly Correlated Electrons',\n",
       " 'cond-mat.supr-con': 'Superconductivity',\n",
       " 'cs.AI': 'Artificial Intelligence',\n",
       " 'cs.AR': 'Hardware Architecture',\n",
       " 'cs.CC': 'Computational Complexity',\n",
       " 'cs.CE': 'Computational Engineering, Finance, and Science',\n",
       " 'cs.CG': 'Computational Geometry',\n",
       " 'cs.CL': 'Computation and Language',\n",
       " 'cs.CR': 'Cryptography and Security',\n",
       " 'cs.CV': 'Computer Vision and Pattern Recognition',\n",
       " 'cs.CY': 'Computers and Society',\n",
       " 'cs.DB': 'Databases',\n",
       " 'cs.DC': 'Distributed, Parallel, and Cluster Computing',\n",
       " 'cs.DL': 'Digital Libraries',\n",
       " 'cs.DM': 'Discrete Mathematics',\n",
       " 'cs.DS': 'Data Structures and Algorithms',\n",
       " 'cs.ET': 'Emerging Technologies',\n",
       " 'cs.FL': 'Formal Languages and Automata Theory',\n",
       " 'cs.GL': 'General Literature',\n",
       " 'cs.GR': 'Graphics',\n",
       " 'cs.GT': 'Computer Science and Game Theory',\n",
       " 'cs.HC': 'Human-Computer Interaction',\n",
       " 'cs.IR': 'Information Retrieval',\n",
       " 'cs.IT': 'Information Theory',\n",
       " 'cs.LG': 'Machine Learning',\n",
       " 'cs.LO': 'Logic in Computer Science',\n",
       " 'cs.MA': 'Multiagent Systems',\n",
       " 'cs.MM': 'Multimedia',\n",
       " 'cs.MS': 'Mathematical Software',\n",
       " 'cs.NA': 'Numerical Analysis',\n",
       " 'cs.NE': 'Neural and Evolutionary Computing',\n",
       " 'cs.NI': 'Networking and Internet Architecture',\n",
       " 'cs.OH': 'Other Computer Science',\n",
       " 'cs.OS': 'Operating Systems',\n",
       " 'cs.PF': 'Performance',\n",
       " 'cs.PL': 'Programming Languages',\n",
       " 'cs.RO': 'Robotics',\n",
       " 'cs.SC': 'Symbolic Computation',\n",
       " 'cs.SD': 'Sound',\n",
       " 'cs.SE': 'Software Engineering',\n",
       " 'cs.SI': 'Social and Information Networks',\n",
       " 'cs.SY': 'Systems and Control',\n",
       " 'econ.EM': 'Econometrics',\n",
       " 'eess.AS': 'Audio and Speech Processing',\n",
       " 'eess.IV': 'Image and Video Processing',\n",
       " 'eess.SP': 'Signal Processing',\n",
       " 'gr-qc': 'General Relativity and Quantum Cosmology',\n",
       " 'hep-ex': 'High Energy Physics - Experiment',\n",
       " 'hep-lat': 'High Energy Physics - Lattice',\n",
       " 'hep-ph': 'High Energy Physics - Phenomenology',\n",
       " 'hep-th': 'High Energy Physics - Theory',\n",
       " 'math.AC': 'Commutative Algebra',\n",
       " 'math.AG': 'Algebraic Geometry',\n",
       " 'math.AP': 'Analysis of PDEs',\n",
       " 'math.AT': 'Algebraic Topology',\n",
       " 'math.CA': 'Classical Analysis and ODEs',\n",
       " 'math.CO': 'Combinatorics',\n",
       " 'math.CT': 'Category Theory',\n",
       " 'math.CV': 'Complex Variables',\n",
       " 'math.DG': 'Differential Geometry',\n",
       " 'math.DS': 'Dynamical Systems',\n",
       " 'math.FA': 'Functional Analysis',\n",
       " 'math.GM': 'General Mathematics',\n",
       " 'math.GN': 'General Topology',\n",
       " 'math.GR': 'Group Theory',\n",
       " 'math.GT': 'Geometric Topology',\n",
       " 'math.HO': 'History and Overview',\n",
       " 'math.IT': 'Information Theory',\n",
       " 'math.KT': 'K-Theory and Homology',\n",
       " 'math.LO': 'Logic',\n",
       " 'math.MG': 'Metric Geometry',\n",
       " 'math.MP': 'Mathematical Physics',\n",
       " 'math.NA': 'Numerical Analysis',\n",
       " 'math.NT': 'Number Theory',\n",
       " 'math.OA': 'Operator Algebras',\n",
       " 'math.OC': 'Optimization and Control',\n",
       " 'math.PR': 'Probability',\n",
       " 'math.QA': 'Quantum Algebra',\n",
       " 'math.RA': 'Rings and Algebras',\n",
       " 'math.RT': 'Representation Theory',\n",
       " 'math.SG': 'Symplectic Geometry',\n",
       " 'math.SP': 'Spectral Theory',\n",
       " 'math.ST': 'Statistics Theory',\n",
       " 'math-ph': 'Mathematical Physics',\n",
       " 'nlin.AO': 'Adaptation and Self-Organizing Systems',\n",
       " 'nlin.CD': 'Chaotic Dynamics',\n",
       " 'nlin.CG': 'Cellular Automata and Lattice Gases',\n",
       " 'nlin.PS': 'Pattern Formation and Solitons',\n",
       " 'nlin.SI': 'Exactly Solvable and Integrable Systems',\n",
       " 'nucl-ex': 'Nuclear Experiment',\n",
       " 'nucl-th': 'Nuclear Theory',\n",
       " 'physics.acc-ph': 'Accelerator Physics',\n",
       " 'physics.ao-ph': 'Atmospheric and Oceanic Physics',\n",
       " 'physics.app-ph': 'Applied Physics',\n",
       " 'physics.atm-clus': 'Atomic and Molecular Clusters',\n",
       " 'physics.atom-ph': 'Atomic Physics',\n",
       " 'physics.bio-ph': 'Biological Physics',\n",
       " 'physics.chem-ph': 'Chemical Physics',\n",
       " 'physics.class-ph': 'Classical Physics',\n",
       " 'physics.comp-ph': 'Computational Physics',\n",
       " 'physics.data-an': 'Data Analysis, Statistics and Probability',\n",
       " 'physics.ed-ph': 'Physics Education',\n",
       " 'physics.flu-dyn': 'Fluid Dynamics',\n",
       " 'physics.gen-ph': 'General Physics',\n",
       " 'physics.geo-ph': 'Geophysics',\n",
       " 'physics.hist-ph': 'History and Philosophy of Physics',\n",
       " 'physics.ins-det': 'Instrumentation and Detectors',\n",
       " 'physics.med-ph': 'Medical Physics',\n",
       " 'physics.optics': 'Optics',\n",
       " 'physics.plasm-ph': 'Plasma Physics',\n",
       " 'physics.pop-ph': 'Popular Physics',\n",
       " 'physics.soc-ph': 'Physics and Society',\n",
       " 'physics.space-ph': 'Space Physics',\n",
       " 'q-bio.BM': 'Biomolecules',\n",
       " 'q-bio.CB': 'Cell Behavior',\n",
       " 'q-bio.GN': 'Genomics',\n",
       " 'q-bio.MN': 'Molecular Networks',\n",
       " 'q-bio.NC': 'Neurons and Cognition',\n",
       " 'q-bio.OT': 'Other Quantitative Biology',\n",
       " 'q-bio.PE': 'Populations and Evolution',\n",
       " 'q-bio.QM': 'Quantitative Methods',\n",
       " 'q-bio.SC': 'Subcellular Processes',\n",
       " 'q-bio.TO': 'Tissues and Organs',\n",
       " 'q-fin.CP': 'Computational Finance',\n",
       " 'q-fin.EC': 'Economics',\n",
       " 'q-fin.GN': 'General Finance',\n",
       " 'q-fin.MF': 'Mathematical Finance',\n",
       " 'q-fin.PM': 'Portfolio Management',\n",
       " 'q-fin.PR': 'Pricing of Securities',\n",
       " 'q-fin.RM': 'Risk Management',\n",
       " 'q-fin.ST': 'Statistical Finance',\n",
       " 'q-fin.TR': 'Trading and Market Microstructure',\n",
       " 'quant-ph': 'Quantum Physics',\n",
       " 'stat.AP': 'Applications',\n",
       " 'stat.CO': 'Computation',\n",
       " 'stat.ME': 'Methodology',\n",
       " 'stat.ML': 'Machine Learning',\n",
       " 'stat.OT': 'Other Statistics',\n",
       " 'stat.TH': 'Statistics Theory'}"
      ]
     },
     "execution_count": 20,
     "metadata": {},
     "output_type": "execute_result"
    }
   ],
   "source": [
    "CATEGORIES"
   ]
  },
  {
   "cell_type": "code",
   "execution_count": 7,
   "metadata": {},
   "outputs": [
    {
     "data": {
      "text/plain": [
       "(5000, 6)"
      ]
     },
     "execution_count": 7,
     "metadata": {},
     "output_type": "execute_result"
    }
   ],
   "source": [
    "df.shape"
   ]
  },
  {
   "cell_type": "code",
   "execution_count": 8,
   "metadata": {},
   "outputs": [
    {
     "data": {
      "text/html": [
       "<div>\n",
       "<style scoped>\n",
       "    .dataframe tbody tr th:only-of-type {\n",
       "        vertical-align: middle;\n",
       "    }\n",
       "\n",
       "    .dataframe tbody tr th {\n",
       "        vertical-align: top;\n",
       "    }\n",
       "\n",
       "    .dataframe thead th {\n",
       "        text-align: right;\n",
       "    }\n",
       "</style>\n",
       "<table border=\"1\" class=\"dataframe\">\n",
       "  <thead>\n",
       "    <tr style=\"text-align: right;\">\n",
       "      <th></th>\n",
       "      <th>id</th>\n",
       "      <th>title</th>\n",
       "      <th>year</th>\n",
       "      <th>authors</th>\n",
       "      <th>categories</th>\n",
       "      <th>abstract</th>\n",
       "    </tr>\n",
       "  </thead>\n",
       "  <tbody>\n",
       "    <tr>\n",
       "      <th>210240</th>\n",
       "      <td>1512.07410</td>\n",
       "      <td>Fragmentation of long-lived hydrocarbons after...</td>\n",
       "      <td>2016</td>\n",
       "      <td>Seyedreza Larimian, Sonia Erattupuzha, Erik L\\...</td>\n",
       "      <td>physics.chem-ph,physics.atm-clus,physics.optics</td>\n",
       "      <td>We experimentally and theoretically investig...</td>\n",
       "    </tr>\n",
       "    <tr>\n",
       "      <th>148715</th>\n",
       "      <td>1404.1520</td>\n",
       "      <td>Single spin stochastic optical reconstruction ...</td>\n",
       "      <td>2014</td>\n",
       "      <td>Matthias Pfender, Nabeel Aslam, Gerald Waldher...</td>\n",
       "      <td>quant-ph,physics.optics</td>\n",
       "      <td>We experimentally demonstrate precision addr...</td>\n",
       "    </tr>\n",
       "    <tr>\n",
       "      <th>219516</th>\n",
       "      <td>1603.07790</td>\n",
       "      <td>Weighted Pushdown Systems with Indexed Weight ...</td>\n",
       "      <td>2016</td>\n",
       "      <td>Yasuhiko Minamide</td>\n",
       "      <td>cs.FL,cs.PL</td>\n",
       "      <td>The reachability analysis of weighted pushdo...</td>\n",
       "    </tr>\n",
       "  </tbody>\n",
       "</table>\n",
       "</div>"
      ],
      "text/plain": [
       "                id                                              title  year  \\\n",
       "210240  1512.07410  Fragmentation of long-lived hydrocarbons after...  2016   \n",
       "148715   1404.1520  Single spin stochastic optical reconstruction ...  2014   \n",
       "219516  1603.07790  Weighted Pushdown Systems with Indexed Weight ...  2016   \n",
       "\n",
       "                                                  authors  \\\n",
       "210240  Seyedreza Larimian, Sonia Erattupuzha, Erik L\\...   \n",
       "148715  Matthias Pfender, Nabeel Aslam, Gerald Waldher...   \n",
       "219516                                  Yasuhiko Minamide   \n",
       "\n",
       "                                             categories  \\\n",
       "210240  physics.chem-ph,physics.atm-clus,physics.optics   \n",
       "148715                          quant-ph,physics.optics   \n",
       "219516                                      cs.FL,cs.PL   \n",
       "\n",
       "                                                 abstract  \n",
       "210240    We experimentally and theoretically investig...  \n",
       "148715    We experimentally demonstrate precision addr...  \n",
       "219516    The reachability analysis of weighted pushdo...  "
      ]
     },
     "execution_count": 8,
     "metadata": {},
     "output_type": "execute_result"
    }
   ],
   "source": [
    "df.head(3)"
   ]
  },
  {
   "cell_type": "code",
   "execution_count": 9,
   "metadata": {},
   "outputs": [],
   "source": [
    "df['text'] = df['title'] + ' ' + df['abstract']\n",
    "# df['categories'] = df['categories'].apply(lambda x: x.split(','))"
   ]
  },
  {
   "cell_type": "code",
   "execution_count": 10,
   "metadata": {},
   "outputs": [
    {
     "data": {
      "text/plain": [
       "'physics.chem-ph,physics.atm-clus,physics.optics'"
      ]
     },
     "execution_count": 10,
     "metadata": {},
     "output_type": "execute_result"
    }
   ],
   "source": [
    "df.iloc[0].categories"
   ]
  },
  {
   "cell_type": "markdown",
   "metadata": {},
   "source": [
    "## Train dataset creation"
   ]
  },
  {
   "cell_type": "code",
   "execution_count": 13,
   "metadata": {},
   "outputs": [
    {
     "data": {
      "text/plain": [
       "((5000, 7), (4000, 7), (1000, 7))"
      ]
     },
     "execution_count": 13,
     "metadata": {},
     "output_type": "execute_result"
    }
   ],
   "source": [
    "df_train, df_test = train_test_split(df, train_size=0.8)\n",
    "\n",
    "df.shape, df_train.shape, df_test.shape"
   ]
  },
  {
   "cell_type": "code",
   "execution_count": 14,
   "metadata": {},
   "outputs": [],
   "source": [
    "def get_tokenizer(tokenizer_model):\n",
    "    def tokenize_function(examples):\n",
    "        return tokenizer(examples[\"text\"], padding=\"max_length\", truncation=True)\n",
    "\n",
    "    tokenizer = AutoTokenizer.from_pretrained(tokenizer_model)\n",
    "    return tokenize_function, tokenizer\n",
    "\n",
    "tokenize_function, tokenizer = get_tokenizer('bert-base-uncased')"
   ]
  },
  {
   "cell_type": "code",
   "execution_count": 47,
   "metadata": {},
   "outputs": [],
   "source": [
    "# Drop samples where there are categories which should not be present according to our predefined categories.py\n",
    "\n",
    "df['split_categories'] = df['categories'].apply(lambda x: x.split(','))\n",
    "\n",
    "df = df[\n",
    "    df['split_categories'].apply(lambda x: len(set(x) - set(CATEGORIES)) == 0)\n",
    "]"
   ]
  },
  {
   "cell_type": "code",
   "execution_count": 48,
   "metadata": {},
   "outputs": [
    {
     "data": {
      "text/plain": [
       "array(['astro-ph', 'astro-ph.CO', 'astro-ph.EP', 'astro-ph.GA',\n",
       "       'astro-ph.HE', 'astro-ph.IM', 'astro-ph.SR', 'cond-mat.dis-nn',\n",
       "       'cond-mat.mes-hall', 'cond-mat.mtrl-sci'], dtype=object)"
      ]
     },
     "execution_count": 48,
     "metadata": {},
     "output_type": "execute_result"
    }
   ],
   "source": [
    "mlb = MultiLabelBinarizer()\n",
    "# mlb.fit([[(k,v) for k, v in CATEGORIES.items()]]) #df_train['categories'])\n",
    "mlb.fit([list(CATEGORIES.keys())]) #df_train['categories'])\n",
    "mlb.classes_[:10]"
   ]
  },
  {
   "cell_type": "code",
   "execution_count": 49,
   "metadata": {},
   "outputs": [],
   "source": [
    "def preprocess_data(examples):\n",
    "    # take a batch of texts\n",
    "    text = examples[\"text\"]\n",
    "\n",
    "    # encode them\n",
    "    encoding = tokenizer(text, padding=\"max_length\", truncation=True, max_length=128)\n",
    "\n",
    "    encoded_categories = mlb.transform([c.split(',') for c in examples['categories']]).astype(float)\n",
    "\n",
    "    encoding[\"labels\"] = encoded_categories\n",
    "\n",
    "    return encoding"
   ]
  },
  {
   "cell_type": "code",
   "execution_count": 50,
   "metadata": {},
   "outputs": [
    {
     "data": {
      "application/vnd.jupyter.widget-view+json": {
       "model_id": "9692bf48791b4a1d87b8c5d796cef366",
       "version_major": 2,
       "version_minor": 0
      },
      "text/plain": [
       "  0%|          | 0/4 [00:00<?, ?ba/s]"
      ]
     },
     "metadata": {},
     "output_type": "display_data"
    },
    {
     "name": "stderr",
     "output_type": "stream",
     "text": [
      "/home/paulo/.local/lib/python3.9/site-packages/sklearn/preprocessing/_label.py:878: UserWarning: unknown class(es) ['econ.GN', 'eess.SY'] will be ignored\n",
      "  warnings.warn(\n",
      "/home/paulo/.local/lib/python3.9/site-packages/sklearn/preprocessing/_label.py:878: UserWarning: unknown class(es) ['econ.GN', 'econ.TH', 'eess.SY'] will be ignored\n",
      "  warnings.warn(\n",
      "/home/paulo/.local/lib/python3.9/site-packages/sklearn/preprocessing/_label.py:878: UserWarning: unknown class(es) ['eess.SY'] will be ignored\n",
      "  warnings.warn(\n"
     ]
    },
    {
     "data": {
      "application/vnd.jupyter.widget-view+json": {
       "model_id": "d6bc7b01dfa843f69bf4ba3148a50f09",
       "version_major": 2,
       "version_minor": 0
      },
      "text/plain": [
       "  0%|          | 0/1 [00:00<?, ?ba/s]"
      ]
     },
     "metadata": {},
     "output_type": "display_data"
    },
    {
     "name": "stderr",
     "output_type": "stream",
     "text": [
      "/home/paulo/.local/lib/python3.9/site-packages/sklearn/preprocessing/_label.py:878: UserWarning: unknown class(es) ['econ.GN', 'eess.SY'] will be ignored\n",
      "  warnings.warn(\n"
     ]
    }
   ],
   "source": [
    "df_train_hf = Dataset.from_pandas(df_train[['text', 'categories']])\n",
    "tokenized_train = df_train_hf.map(preprocess_data, batched=True)\n",
    "\n",
    "df_test_hf = Dataset.from_pandas(df_test[['text', 'categories']])\n",
    "tokenized_test = df_test_hf.map(preprocess_data, batched=True)"
   ]
  },
  {
   "cell_type": "code",
   "execution_count": 51,
   "metadata": {},
   "outputs": [
    {
     "name": "stdout",
     "output_type": "stream",
     "text": [
      "Reversed [('cond-mat.str-el', 'hep-th')]\n",
      "Original categories cond-mat.str-el,hep-th\n"
     ]
    }
   ],
   "source": [
    "# Get inverse transform, as an example\n",
    "\n",
    "print(\"Reversed\", mlb.inverse_transform(np.asarray(tokenized_test[0]['labels']).reshape(1, -1)))\n",
    "print(\"Original categories\", tokenized_test[0]['categories'])"
   ]
  },
  {
   "cell_type": "code",
   "execution_count": 52,
   "metadata": {},
   "outputs": [
    {
     "name": "stdout",
     "output_type": "stream",
     "text": [
      "huggingface/tokenizers: The current process just got forked, after parallelism has already been used. Disabling parallelism to avoid deadlocks...\n",
      "To disable this warning, you can either:\n",
      "\t- Avoid using `tokenizers` before the fork if possible\n",
      "\t- Explicitly set the environment variable TOKENIZERS_PARALLELISM=(true | false)\n",
      "huggingface/tokenizers: The current process just got forked, after parallelism has already been used. Disabling parallelism to avoid deadlocks...\n",
      "To disable this warning, you can either:\n",
      "\t- Avoid using `tokenizers` before the fork if possible\n",
      "\t- Explicitly set the environment variable TOKENIZERS_PARALLELISM=(true | false)\n"
     ]
    }
   ],
   "source": [
    "# Store multilabel binarizer as a pickle file\n",
    "\n",
    "!rm -rf checkpoint\n",
    "!mkdir checkpoint\n",
    "with open('checkpoint/mlb.pkl', 'wb') as handle:\n",
    "    pickle.dump(mlb, handle, protocol=pickle.HIGHEST_PROTOCOL)"
   ]
  },
  {
   "cell_type": "markdown",
   "metadata": {},
   "source": [
    "## Training multi label class model"
   ]
  },
  {
   "cell_type": "code",
   "execution_count": 53,
   "metadata": {},
   "outputs": [
    {
     "name": "stderr",
     "output_type": "stream",
     "text": [
      "Some weights of the model checkpoint at bert-base-uncased were not used when initializing BertForSequenceClassification: ['cls.predictions.decoder.weight', 'cls.predictions.transform.LayerNorm.bias', 'cls.predictions.bias', 'cls.seq_relationship.bias', 'cls.predictions.transform.dense.bias', 'cls.seq_relationship.weight', 'cls.predictions.transform.LayerNorm.weight', 'cls.predictions.transform.dense.weight']\n",
      "- This IS expected if you are initializing BertForSequenceClassification from the checkpoint of a model trained on another task or with another architecture (e.g. initializing a BertForSequenceClassification model from a BertForPreTraining model).\n",
      "- This IS NOT expected if you are initializing BertForSequenceClassification from the checkpoint of a model that you expect to be exactly identical (initializing a BertForSequenceClassification model from a BertForSequenceClassification model).\n",
      "Some weights of BertForSequenceClassification were not initialized from the model checkpoint at bert-base-uncased and are newly initialized: ['classifier.bias', 'classifier.weight']\n",
      "You should probably TRAIN this model on a down-stream task to be able to use it for predictions and inference.\n"
     ]
    }
   ],
   "source": [
    "model = BertForSequenceClassification.from_pretrained(\n",
    "    \"bert-base-uncased\",\n",
    "    num_labels=len(mlb.classes_),\n",
    "    problem_type=\"multi_label_classification\"\n",
    ")"
   ]
  },
  {
   "cell_type": "code",
   "execution_count": 34,
   "metadata": {},
   "outputs": [],
   "source": [
    "# Adaptation: https://github.com/NielsRogge/Transformers-Tutorials/blob/master/BERT/Fine_tuning_BERT_(and_friends)_for_multi_label_text_classification.ipynb \n",
    "# \n",
    "\n",
    "# Define batch size according to your GPU RAM\n",
    "batch_size = 8\n",
    "nb_epochs = 1 # DEMONSTRATIVE PURPOSES\n",
    "metric_name = \"f1\"\n",
    "\n",
    "args = TrainingArguments(\n",
    "    f\"paper-multilabel-finetuning\",\n",
    "    evaluation_strategy=\"epoch\",\n",
    "    save_strategy=\"epoch\",\n",
    "    save_total_limit=1,\n",
    "    learning_rate=2e-5,\n",
    "    per_device_train_batch_size=batch_size,\n",
    "    per_device_eval_batch_size=batch_size//2,\n",
    "    num_train_epochs=nb_epochs,\n",
    "    weight_decay=0.01,\n",
    "    load_best_model_at_end=True,\n",
    "    metric_for_best_model=metric_name,\n",
    "    eval_accumulation_steps=1,\n",
    ")\n",
    "\n",
    "# source: https://jesusleal.io/2021/04/21/Longformer-multilabel-classification/\n",
    "def multi_label_metrics(predictions, labels, threshold=0.5):\n",
    "    # first, apply sigmoid on predictions which are of shape (batch_size, num_labels)\n",
    "    sigmoid = torch.nn.Sigmoid()\n",
    "    probs = sigmoid(torch.Tensor(predictions))\n",
    "    # next, use threshold to turn them into integer predictions\n",
    "    y_pred = np.zeros(probs.shape)\n",
    "    y_pred[np.where(probs >= threshold)] = 1\n",
    "    # finally, compute metrics\n",
    "    y_true = labels\n",
    "    f1_micro_average = f1_score(y_true=y_true, y_pred=y_pred, average='micro')\n",
    "    roc_auc = roc_auc_score(y_true, y_pred, average = 'micro')\n",
    "    accuracy = accuracy_score(y_true, y_pred)\n",
    "    # return as dictionary\n",
    "    metrics = {'f1': f1_micro_average,\n",
    "               'roc_auc': roc_auc,\n",
    "               'accuracy': accuracy}\n",
    "    return metrics\n",
    "\n",
    "def compute_metrics(p: EvalPrediction):\n",
    "    preds = p.predictions[0] if isinstance(p.predictions, \n",
    "            tuple) else p.predictions\n",
    "    return multi_label_metrics(\n",
    "        predictions=p.predictions, \n",
    "        labels=p.label_ids)"
   ]
  },
  {
   "cell_type": "code",
   "execution_count": 35,
   "metadata": {},
   "outputs": [],
   "source": [
    "trainer = Trainer(\n",
    "    model,\n",
    "    args,\n",
    "    train_dataset=tokenized_train,\n",
    "    eval_dataset=tokenized_test,\n",
    "    tokenizer=tokenizer,\n",
    "    compute_metrics=compute_metrics\n",
    ")"
   ]
  },
  {
   "cell_type": "code",
   "execution_count": 36,
   "metadata": {},
   "outputs": [
    {
     "name": "stderr",
     "output_type": "stream",
     "text": [
      "/Users/a.yushkovskiy/gh/atemate/redis-arXiv-search/.venv/lib/python3.8/site-packages/transformers/optimization.py:306: FutureWarning: This implementation of AdamW is deprecated and will be removed in a future version. Use the PyTorch implementation torch.optim.AdamW instead, or set `no_deprecation_warning=True` to disable this warning\n",
      "  warnings.warn(\n",
      "***** Running training *****\n",
      "  Num examples = 48\n",
      "  Num Epochs = 1\n",
      "  Instantaneous batch size per device = 8\n",
      "  Total train batch size (w. parallel, distributed & accumulation) = 8\n",
      "  Gradient Accumulation steps = 1\n",
      "  Total optimization steps = 6\n",
      "  Number of trainable parameters = 109599897\n",
      "The following columns in the training set don't have a corresponding argument in `BertForSequenceClassification.forward` and have been ignored: text, categories, __index_level_0__. If text, categories, __index_level_0__ are not expected by `BertForSequenceClassification.forward`,  you can safely ignore this message.\n",
      "You're using a BertTokenizerFast tokenizer. Please note that with a fast tokenizer, using the `__call__` method is faster than using a method to encode the text followed by a call to the `pad` method to get a padded encoding.\n"
     ]
    },
    {
     "data": {
      "text/html": [
       "\n",
       "    <div>\n",
       "      \n",
       "      <progress value='6' max='6' style='width:300px; height:20px; vertical-align: middle;'></progress>\n",
       "      [6/6 00:08, Epoch 1/1]\n",
       "    </div>\n",
       "    <table border=\"1\" class=\"dataframe\">\n",
       "  <thead>\n",
       " <tr style=\"text-align: left;\">\n",
       "      <th>Epoch</th>\n",
       "      <th>Training Loss</th>\n",
       "      <th>Validation Loss</th>\n",
       "      <th>F1</th>\n",
       "      <th>Roc Auc</th>\n",
       "      <th>Accuracy</th>\n",
       "    </tr>\n",
       "  </thead>\n",
       "  <tbody>\n",
       "    <tr>\n",
       "      <td>1</td>\n",
       "      <td>No log</td>\n",
       "      <td>0.657666</td>\n",
       "      <td>0.026588</td>\n",
       "      <td>0.502474</td>\n",
       "      <td>0.000000</td>\n",
       "    </tr>\n",
       "  </tbody>\n",
       "</table><p>"
      ],
      "text/plain": [
       "<IPython.core.display.HTML object>"
      ]
     },
     "metadata": {},
     "output_type": "display_data"
    },
    {
     "name": "stderr",
     "output_type": "stream",
     "text": [
      "***** Running Evaluation *****\n",
      "  Num examples = 12\n",
      "  Batch size = 4\n",
      "The following columns in the evaluation set don't have a corresponding argument in `BertForSequenceClassification.forward` and have been ignored: text, categories, __index_level_0__. If text, categories, __index_level_0__ are not expected by `BertForSequenceClassification.forward`,  you can safely ignore this message.\n",
      "Saving model checkpoint to paper-multilabel-finetuning/checkpoint-6\n",
      "Configuration saved in paper-multilabel-finetuning/checkpoint-6/config.json\n",
      "Model weights saved in paper-multilabel-finetuning/checkpoint-6/pytorch_model.bin\n",
      "tokenizer config file saved in paper-multilabel-finetuning/checkpoint-6/tokenizer_config.json\n",
      "Special tokens file saved in paper-multilabel-finetuning/checkpoint-6/special_tokens_map.json\n",
      "\n",
      "\n",
      "Training completed. Do not forget to share your model on huggingface.co/models =)\n",
      "\n",
      "\n",
      "Loading best model from paper-multilabel-finetuning/checkpoint-6 (score: 0.026587887740029542).\n"
     ]
    },
    {
     "data": {
      "text/plain": [
       "TrainOutput(global_step=6, training_loss=0.6783577601114908, metrics={'train_runtime': 9.3058, 'train_samples_per_second': 5.158, 'train_steps_per_second': 0.645, 'total_flos': 3161613275136.0, 'train_loss': 0.6783577601114908, 'epoch': 1.0})"
      ]
     },
     "execution_count": 36,
     "metadata": {},
     "output_type": "execute_result"
    }
   ],
   "source": [
    "trainer.train()"
   ]
  },
  {
   "cell_type": "code",
   "execution_count": 37,
   "metadata": {},
   "outputs": [
    {
     "name": "stderr",
     "output_type": "stream",
     "text": [
      "***** Running Evaluation *****\n",
      "  Num examples = 12\n",
      "  Batch size = 4\n",
      "The following columns in the evaluation set don't have a corresponding argument in `BertForSequenceClassification.forward` and have been ignored: text, categories, __index_level_0__. If text, categories, __index_level_0__ are not expected by `BertForSequenceClassification.forward`,  you can safely ignore this message.\n"
     ]
    },
    {
     "data": {
      "text/html": [
       "\n",
       "    <div>\n",
       "      \n",
       "      <progress value='3' max='3' style='width:300px; height:20px; vertical-align: middle;'></progress>\n",
       "      [3/3 00:00]\n",
       "    </div>\n",
       "    "
      ],
      "text/plain": [
       "<IPython.core.display.HTML object>"
      ]
     },
     "metadata": {},
     "output_type": "display_data"
    },
    {
     "data": {
      "text/plain": [
       "{'eval_loss': 0.6576664447784424,\n",
       " 'eval_f1': 0.026587887740029542,\n",
       " 'eval_roc_auc': 0.5024737713970182,\n",
       " 'eval_accuracy': 0.0,\n",
       " 'eval_runtime': 0.6499,\n",
       " 'eval_samples_per_second': 18.465,\n",
       " 'eval_steps_per_second': 4.616,\n",
       " 'epoch': 1.0}"
      ]
     },
     "execution_count": 37,
     "metadata": {},
     "output_type": "execute_result"
    }
   ],
   "source": [
    "eval_res = trainer.evaluate()\n",
    "eval_res"
   ]
  },
  {
   "cell_type": "markdown",
   "metadata": {},
   "source": [
    "## Perform inference on a given text sample"
   ]
  },
  {
   "cell_type": "code",
   "execution_count": 38,
   "metadata": {},
   "outputs": [
    {
     "name": "stdout",
     "output_type": "stream",
     "text": [
      "astro-ph.HE\n"
     ]
    }
   ],
   "source": [
    "text = df['text'].iloc[5]\n",
    "categories = df['categories'].iloc[5]\n",
    "print(categories)\n",
    "\n",
    "encoding = tokenizer(text, return_tensors=\"pt\")\n",
    "encoding = {k: v.to(trainer.model.device) for k, v in encoding.items()}\n",
    "\n",
    "outputs = trainer.model(**encoding)\n",
    "logits = outputs.logits"
   ]
  },
  {
   "cell_type": "code",
   "execution_count": 39,
   "metadata": {},
   "outputs": [],
   "source": [
    "# apply sigmoid + threshold\n",
    "sigmoid = torch.nn.Sigmoid()\n",
    "probs = sigmoid(logits.squeeze().cpu())\n",
    "predictions = np.zeros(probs.shape)\n",
    "predictions[np.where(probs >= 0.3)] = 1"
   ]
  },
  {
   "cell_type": "code",
   "execution_count": 40,
   "metadata": {},
   "outputs": [
    {
     "name": "stdout",
     "output_type": "stream",
     "text": [
      "A Search for MeV to TeV Neutrinos from Fast Radio Bursts with IceCube   We present two searches for IceCube neutrino events coincident with 28 fast\n",
      "radio bursts (FRBs) and one repeating FRB. The first improves upon a previous\n",
      "IceCube analysis -- searching for spatial and temporal correlation of events\n",
      "with FRBs at energies greater than roughly 50 GeV -- by increasing the\n",
      "effective area by an order of magnitude. The second is a search for temporal\n",
      "correlation of MeV neutrino events with FRBs. No significant correlation is\n",
      "found in either search, therefore, we set upper limits on the time-integrated\n",
      "neutrino flux emitted by FRBs for a range of emission timescales less than one\n",
      "day. These are the first limits on FRB neutrino emission at the MeV scale, and\n",
      "the limits set at higher energies are an order-of-magnitude improvement over\n",
      "those set by any neutrino telescope.\n",
      "\n",
      "[('astro-ph', 'astro-ph.CO', 'astro-ph.EP', 'astro-ph.GA', 'astro-ph.HE', 'astro-ph.IM', 'astro-ph.SR', 'cond-mat.dis-nn', 'cond-mat.mes-hall', 'cond-mat.mtrl-sci', 'cond-mat.other', 'cond-mat.quant-gas', 'cond-mat.soft', 'cond-mat.stat-mech', 'cond-mat.str-el', 'cond-mat.supr-con', 'cs.AI', 'cs.AR', 'cs.CC', 'cs.CE', 'cs.CG', 'cs.CL', 'cs.CR', 'cs.CV', 'cs.CY', 'cs.DB', 'cs.DC', 'cs.DL', 'cs.DM', 'cs.DS', 'cs.ET', 'cs.FL', 'cs.GL', 'cs.GR', 'cs.GT', 'cs.HC', 'cs.IR', 'cs.IT', 'cs.LG', 'cs.LO', 'cs.MA', 'cs.MM', 'cs.MS', 'cs.NA', 'cs.NE', 'cs.NI', 'cs.OH', 'cs.OS', 'cs.PF', 'cs.PL', 'cs.RO', 'cs.SC', 'cs.SD', 'cs.SE', 'cs.SI', 'cs.SY', 'econ.EM', 'eess.AS', 'eess.IV', 'eess.SP', 'gr-qc', 'hep-ex', 'hep-lat', 'hep-ph', 'hep-th', 'math-ph', 'math.AC', 'math.AG', 'math.AP', 'math.AT', 'math.CA', 'math.CO', 'math.CT', 'math.CV', 'math.DG', 'math.DS', 'math.FA', 'math.GM', 'math.GN', 'math.GR', 'math.GT', 'math.HO', 'math.IT', 'math.KT', 'math.LO', 'math.MG', 'math.NA', 'math.NT', 'math.OA', 'math.OC', 'math.PR', 'math.QA', 'math.RA', 'math.RT', 'math.SG', 'math.SP', 'math.ST', 'nlin.AO', 'nlin.CD', 'nlin.CG', 'nlin.PS', 'nlin.SI', 'nucl-ex', 'nucl-th', 'physics.acc-ph', 'physics.ao-ph', 'physics.app-ph', 'physics.atm-clus', 'physics.atom-ph', 'physics.bio-ph', 'physics.chem-ph', 'physics.class-ph', 'physics.comp-ph', 'physics.data-an', 'physics.ed-ph', 'physics.flu-dyn', 'physics.gen-ph', 'physics.geo-ph', 'physics.hist-ph', 'physics.ins-det', 'physics.med-ph', 'physics.optics', 'physics.plasm-ph', 'physics.pop-ph', 'physics.soc-ph', 'physics.space-ph', 'q-bio.BM', 'q-bio.CB', 'q-bio.GN', 'q-bio.MN', 'q-bio.NC', 'q-bio.OT', 'q-bio.PE', 'q-bio.QM', 'q-bio.SC', 'q-fin.CP', 'q-fin.EC', 'q-fin.GN', 'q-fin.MF', 'q-fin.PM', 'q-fin.PR', 'q-fin.RM', 'q-fin.ST', 'q-fin.TR', 'quant-ph', 'stat.AP', 'stat.CO', 'stat.ME', 'stat.ML', 'stat.OT', 'stat.TH')]\n"
     ]
    }
   ],
   "source": [
    "print(text)\n",
    "print(mlb.inverse_transform(predictions.reshape(1, -1)))"
   ]
  },
  {
   "cell_type": "code",
   "execution_count": 41,
   "metadata": {},
   "outputs": [
    {
     "name": "stderr",
     "output_type": "stream",
     "text": [
      "Saving model checkpoint to ./checkpoint\n",
      "Configuration saved in ./checkpoint/config.json\n",
      "Model weights saved in ./checkpoint/pytorch_model.bin\n",
      "tokenizer config file saved in ./checkpoint/tokenizer_config.json\n",
      "Special tokens file saved in ./checkpoint/special_tokens_map.json\n"
     ]
    }
   ],
   "source": [
    "trainer.save_model(output_dir='./checkpoint')"
   ]
  },
  {
   "cell_type": "code",
   "execution_count": 43,
   "metadata": {},
   "outputs": [],
   "source": [
    "with open('./checkpoint/model_info.json', 'w') as f:\n",
    "    f.write(json.dumps(eval_res, indent=4))"
   ]
  }
 ],
 "metadata": {
  "kernelspec": {
   "display_name": "Python 3 (ipykernel)",
   "language": "python",
   "name": "python3"
  },
  "language_info": {
   "codemirror_mode": {
    "name": "ipython",
    "version": 3
   },
   "file_extension": ".py",
   "mimetype": "text/x-python",
   "name": "python",
   "nbconvert_exporter": "python",
   "pygments_lexer": "ipython3",
   "version": "3.9.16"
  },
  "vscode": {
   "interpreter": {
    "hash": "767d51c1340bd893661ea55ea3124f6de3c7a262a8b4abca0554b478b1e2ff90"
   }
  }
 },
 "nbformat": 4,
 "nbformat_minor": 2
}
